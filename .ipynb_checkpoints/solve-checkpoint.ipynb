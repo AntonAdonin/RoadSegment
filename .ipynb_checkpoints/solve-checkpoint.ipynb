{
 "cells": [
  {
   "metadata": {
    "ExecuteTime": {
     "end_time": "2024-04-23T15:25:41.915983Z",
     "start_time": "2024-04-23T15:25:35.370703Z"
    }
   },
   "cell_type": "code",
   "source": [
    "import glob\n",
    "\n",
    "import albumentations as A\n",
    "import cv2\n",
    "import matplotlib.pyplot as plt\n",
    "import numpy as np\n",
    "import segmentation_models_pytorch as smp\n",
    "import torch\n",
    "from torch.utils.data import DataLoader, Dataset\n",
    "from torchvision import transforms\n",
    "from tqdm import tqdm\n"
   ],
   "id": "9f5b2cff81efadcb",
   "outputs": [],
   "execution_count": 1
  },
  {
   "metadata": {
    "ExecuteTime": {
     "end_time": "2024-04-23T15:25:41.931995Z",
     "start_time": "2024-04-23T15:25:41.917983Z"
    }
   },
   "cell_type": "code",
   "source": "work_dir = \"./tiff\"",
   "id": "a3151daab76824ed",
   "outputs": [],
   "execution_count": 2
  },
  {
   "metadata": {
    "ExecuteTime": {
     "end_time": "2024-04-23T15:25:41.948016Z",
     "start_time": "2024-04-23T15:25:41.932996Z"
    }
   },
   "cell_type": "code",
   "source": [
    "class UnetPatchy(smp.Unet):\n",
    "    def __init__(self, patch_size=(256, 256), patch_step=256, **kwargs):\n",
    "        super().__init__(**kwargs)\n",
    "        self.patch_size = patch_size\n",
    "        self.patch_step = patch_step\n",
    "        self.patch_h, self.patch_w = patch_size\n",
    "\n",
    "    def tensor_to_patches(self, tensor):\n",
    "        patches = self.unfold(tensor)  # [bs, c*k*k, num_folds]\n",
    "        num_folds = patches.shape[2]\n",
    "        patches = patches.view(tensor.shape[0], tensor.shape[1], self.patch_h, self.patch_w, -1)  # [bs, C, k, k, L]\n",
    "\n",
    "        patches = patches.permute(0, 4, 1, 2, 3)  # [bs, L, C, k, k]\n",
    "\n",
    "        patches = patches.reshape(tensor.shape[0] * num_folds, tensor.shape[1], self.patch_h, self.patch_w)  # [bs * L, C, k, k]\n",
    "\n",
    "        return patches\n",
    "\n",
    "    def patches_to_tensor(self, patches):  # [bs * L, C, k, k]\n",
    "        c = patches.shape[1]\n",
    "        tensor = patches.view(-1, 36, c, self.patch_h, self.patch_w)  # [bs, L, C, k, k]\n",
    "        bs, L = tensor.shape[0], tensor.shape[1]\n",
    "        tensor = tensor.permute(0, 2, 3, 4, 1)  # [bs, C, k, k, L]\n",
    "        tensor = tensor.view(bs, -1, L)  # [bs, C, k, k, L]\n",
    "        tensor = self.fold(tensor)\n",
    "        return tensor\n",
    "\n",
    "    def forward(self, x):\n",
    "        \"\"\"Sequentially pass `x` trough model`s encoder, decoder and heads\"\"\"\n",
    "        x = self.tensor_to_patches(x)\n",
    "        self.check_input_shape(x)\n",
    "\n",
    "        features = self.encoder(x)\n",
    "        decoder_output = self.decoder(*features)\n",
    "\n",
    "        masks = self.segmentation_head(decoder_output)\n",
    "        masks = self.patches_to_tensor(masks)\n",
    "        if self.classification_head is not None:\n",
    "            labels = self.classification_head(features[-1])\n",
    "            return masks, labels\n",
    "\n",
    "        return masks"
   ],
   "id": "a7e25b03283e05fc",
   "outputs": [],
   "execution_count": 3
  },
  {
   "metadata": {
    "ExecuteTime": {
     "end_time": "2024-04-23T15:25:41.964252Z",
     "start_time": "2024-04-23T15:25:41.950018Z"
    }
   },
   "cell_type": "code",
   "source": [
    "kernel = (256, 256)\n",
    "patch_size = 256\n",
    "fold = torch.nn.Fold(output_size=(1536, 1536), kernel_size=kernel, stride=patch_size)\n",
    "unfold = torch.nn.Unfold(kernel_size=kernel, stride=patch_size)\n",
    "\n",
    "\n",
    "def tensor_to_patches(tensor):  # [bs, c, h, w]\n",
    "    bs, channels = tensor.shape[0], tensor.shape[1]\n",
    "    patches = unfold(tensor)  # [bs, c*k*k, num_folds]\n",
    "    num_folds = patches.shape[2]\n",
    "    patches = patches.view(bs, channels, patch_size, patch_size, -1)  # [bs, C, k, k, L]\n",
    "\n",
    "    patches = patches.permute(0, 4, 1, 2, 3)  # [bs, L, C, k, k]\n",
    "\n",
    "    patches = patches.reshape(bs * num_folds, channels, patch_size, patch_size)  # [bs * L, C, k, k]\n",
    "\n",
    "    return patches\n",
    "\n",
    "\n",
    "def patches_to_tensor(patches):  # [bs * L, C, k, k]\n",
    "    channels = patches.shape[1]\n",
    "    tensor = patches.view(-1, 36, channels, patch_size, patch_size)  # [bs, L, C, k, k]\n",
    "    bs, num_folds = tensor.shape[0], tensor.shape[1]\n",
    "    tensor = tensor.permute(0, 2, 3, 4, 1)  # [bs, C, k, k, L]\n",
    "    tensor = tensor.view(bs, -1, num_folds)  # [bs, C* k* k, L]\n",
    "    tensor = fold(tensor)  # [bs, c, h, w]\n",
    "    return tensor"
   ],
   "id": "553b34079aa4d422",
   "outputs": [],
   "execution_count": 4
  },
  {
   "metadata": {
    "ExecuteTime": {
     "end_time": "2024-04-23T15:25:41.979749Z",
     "start_time": "2024-04-23T15:25:41.967218Z"
    }
   },
   "cell_type": "code",
   "source": [
    "class MyDataset(Dataset):\n",
    "    def __init__(self, dir_name, transform=None, preprocessing=None):\n",
    "        self.data_path = dir_name\n",
    "        self.label_path = f\"{dir_name}_labels\"\n",
    "        self.data_filenames = sorted(glob.glob(f\"{self.data_path}/*.tiff\"))\n",
    "        self.label_filenames = sorted(glob.glob(f\"{self.label_path}/*.tif\"))\n",
    "        self.transform = transform\n",
    "        self.to_tensor = transforms.ToTensor()\n",
    "        self.preprocessing = preprocessing\n",
    "\n",
    "    def __getitem__(self, idx):\n",
    "        image = cv2.imread(self.data_filenames[idx])\n",
    "        mask = cv2.imread(self.label_filenames[idx], cv2.IMREAD_GRAYSCALE)\n",
    "        if self.transform:\n",
    "            augs = self.transform(image=image, mask=mask)\n",
    "            image, mask = augs['image'], augs['mask']\n",
    "\n",
    "        if self.preprocessing:\n",
    "            augs = self.preprocessing(image=image, mask=mask)\n",
    "            image, mask = augs['image'], augs['mask']\n",
    "\n",
    "        image = self.to_tensor(image).type('torch.FloatTensor')\n",
    "        mask = self.to_tensor(mask).type('torch.FloatTensor')\n",
    "\n",
    "        return image, mask\n",
    "\n",
    "    def __len__(self):\n",
    "        return len(self.data_filenames)"
   ],
   "id": "79c1f4bc21b86412",
   "outputs": [],
   "execution_count": 5
  },
  {
   "metadata": {
    "ExecuteTime": {
     "end_time": "2024-04-23T15:25:41.995266Z",
     "start_time": "2024-04-23T15:25:41.980753Z"
    }
   },
   "cell_type": "code",
   "source": [
    "def center_crop_batch(batch):\n",
    "    crop = transforms.CenterCrop((1500, 1500))\n",
    "    return crop(batch)"
   ],
   "id": "14d0892ce54feb4",
   "outputs": [],
   "execution_count": 6
  },
  {
   "metadata": {
    "ExecuteTime": {
     "end_time": "2024-04-23T15:25:42.010971Z",
     "start_time": "2024-04-23T15:25:41.997411Z"
    }
   },
   "cell_type": "code",
   "source": [
    "def get_train_transformation():\n",
    "    transform = A.Compose([\n",
    "        A.PadIfNeeded(min_height=1536, min_width=1536, always_apply=True, border_mode=0),\n",
    "        A.OneOf(\n",
    "            [\n",
    "                A.HorizontalFlip(p=1),\n",
    "                A.VerticalFlip(p=1),\n",
    "                A.RandomRotate90(p=1),\n",
    "            ],\n",
    "            p=0.75,\n",
    "        ),\n",
    "    ], p=1)\n",
    "    return transform\n",
    "\n",
    "\n",
    "def get_val_test_transformation():\n",
    "    transform = A.Compose([\n",
    "        A.PadIfNeeded(min_height=1536, min_width=1536, always_apply=True, border_mode=0),\n",
    "    ], p=1)\n",
    "    return transform\n",
    "\n",
    "\n",
    "def get_preprocessing(preprocessing_fn=None):\n",
    "    \"\"\"Construct preprocessing transform    \n",
    "    Args:\n",
    "        preprocessing_fn (callable): data normalization function \n",
    "            (can be specific for each pretrained neural network)\n",
    "    Return:\n",
    "        transform: albumentations.Compose\n",
    "    \"\"\"\n",
    "    _transform = []\n",
    "    if preprocessing_fn:\n",
    "        _transform.append(A.Lambda(image=preprocessing_fn))\n",
    "\n",
    "    return A.Compose(_transform)\n"
   ],
   "id": "98e2b243714fe63b",
   "outputs": [],
   "execution_count": 7
  },
  {
   "metadata": {
    "ExecuteTime": {
     "end_time": "2024-04-23T15:25:43.194117Z",
     "start_time": "2024-04-23T15:25:42.011980Z"
    }
   },
   "cell_type": "code",
   "source": [
    "ENCODER = 'resnet50'\n",
    "ENCODER_WEIGHTS = 'imagenet'\n",
    "\n",
    "model = smp.Unet(\n",
    "    encoder_name=ENCODER,\n",
    "    encoder_weights=ENCODER_WEIGHTS,\n",
    "    in_channels=3, classes=1,\n",
    ")\n",
    "\n",
    "preprocessing_fn = smp.encoders.get_preprocessing_fn(ENCODER, ENCODER_WEIGHTS)"
   ],
   "id": "c50b9c6b768856c8",
   "outputs": [],
   "execution_count": 8
  },
  {
   "metadata": {
    "ExecuteTime": {
     "end_time": "2024-04-23T15:25:43.226126Z",
     "start_time": "2024-04-23T15:25:43.196119Z"
    }
   },
   "cell_type": "code",
   "source": [
    "train_dataset = MyDataset(f\"{work_dir}/train\", transform=get_train_transformation(), preprocessing=get_preprocessing(preprocessing_fn), )\n",
    "val_dataset = MyDataset(f\"{work_dir}/val\", transform=get_val_test_transformation(), preprocessing=get_preprocessing(preprocessing_fn), )\n",
    "test_dataset = MyDataset(f\"{work_dir}/test\", transform=get_val_test_transformation(), preprocessing=get_preprocessing(preprocessing_fn), )"
   ],
   "id": "8c227944e9225e30",
   "outputs": [],
   "execution_count": 9
  },
  {
   "metadata": {
    "ExecuteTime": {
     "end_time": "2024-04-23T15:25:43.369410Z",
     "start_time": "2024-04-23T15:25:43.228127Z"
    }
   },
   "cell_type": "code",
   "source": [
    "def plot_datasets_items():\n",
    "    def func(pct, allvalues):\n",
    "        absolute = int(pct / 100. * np.sum(allvalues))\n",
    "        return \"{:.1f}%\\n({:d} items)\".format(pct, absolute)\n",
    "\n",
    "    explode = [0.1, 2, 1]\n",
    "\n",
    "    stat = {\"train\": len(train_dataset), \"validate\": len(val_dataset), \"test\": len(test_dataset)}\n",
    "    plt.pie(stat.values(), labels=stat.keys(), autopct=lambda pct: func(pct, list(stat.values())), explode=explode,\n",
    "            textprops={\"color\": \"black\", \"weight\": \"bold\", 'fontsize': 13})\n",
    "    plt.show()\n",
    "\n",
    "\n",
    "plot_datasets_items()"
   ],
   "id": "initial_id",
   "outputs": [
    {
     "data": {
      "text/plain": [
       "<Figure size 640x480 with 1 Axes>"
      ],
      "image/png": "[encoded data removed]"
     },
     "metadata": {},
     "output_type": "display_data"
    }
   ],
   "execution_count": 10
  },
  {
   "metadata": {
    "ExecuteTime": {
     "end_time": "2024-04-23T15:25:43.385020Z",
     "start_time": "2024-04-23T15:25:43.370411Z"
    }
   },
   "cell_type": "code",
   "source": [
    "def visualize_pics():\n",
    "    for i in range(3):\n",
    "        image, mask = train_dataset[i]\n",
    "        image = image.permute(1, 2, 0)\n",
    "        mask = mask.permute(1, 2, 0)\n",
    "        fig, axs = plt.subplots(nrows=1, ncols=2, dpi=320)\n",
    "        axs[0].imshow(image)\n",
    "        axs[1].imshow(mask)\n",
    "        plt.show()\n",
    "\n",
    "# visualize_pics()"
   ],
   "id": "21bf27d17e0b8304",
   "outputs": [],
   "execution_count": 11
  },
  {
   "metadata": {
    "ExecuteTime": {
     "end_time": "2024-04-23T15:25:43.400793Z",
     "start_time": "2024-04-23T15:25:43.386157Z"
    }
   },
   "cell_type": "code",
   "source": [
    "def visualize_patches():\n",
    "    train_loader = DataLoader(train_dataset, batch_size=1, shuffle=True)\n",
    "    for image, mask in train_loader:\n",
    "        image_patches = tensor_to_patches(image)\n",
    "        label_patches = tensor_to_patches(mask)\n",
    "        plt.title(\"original pic\", fontsize=20)\n",
    "        plt.imshow(image.squeeze().permute(1, 2, 0))\n",
    "        plt.show()\n",
    "        fig, axs = plt.subplots(nrows=6, ncols=6, dpi=1000)\n",
    "        plt.title(\"patches\", fontsize=20)\n",
    "        for n in range(36):\n",
    "            patch = image_patches[n, :, :, :].squeeze().permute(1, 2, 0)\n",
    "            i = n // 6\n",
    "            j = n % 6\n",
    "            axs[i][j].imshow(patch)\n",
    "        plt.show()\n",
    "        image_restored = patches_to_tensor(image_patches)\n",
    "        plt.title(\"restored from patches\", fontsize=20)\n",
    "        plt.imshow(image_restored.squeeze(dim=0).permute(1, 2, 0))\n",
    "        plt.show()\n",
    "        break\n",
    "\n",
    "# visualize_patches()\n"
   ],
   "id": "b7d2e3d7c16f7901",
   "outputs": [],
   "execution_count": 12
  },
  {
   "metadata": {
    "ExecuteTime": {
     "end_time": "2024-04-23T15:25:43.619910Z",
     "start_time": "2024-04-23T15:25:43.402794Z"
    }
   },
   "cell_type": "code",
   "source": [
    "TRAINING = True\n",
    "\n",
    "# Set num of epochs\n",
    "EPOCHS = 5\n",
    "BATCH_SIZE = 1  #\n",
    "PATCH_SIZE = 12  # нада штоб BS * 36 делилось на PS без остатка\n",
    "# Set device: `cuda` or `cpu`\n",
    "DEVICE = torch.device(\"cuda\" if torch.cuda.is_available() else \"cpu\")\n",
    "\n",
    "criterion = torch.nn.BCEWithLogitsLoss()\n",
    "\n",
    "# define optimizer\n",
    "optimizer = torch.optim.Adam([\n",
    "    dict(params=model.parameters(), lr=0.00008),\n",
    "])\n",
    "\n",
    "min_valid_loss = np.inf\n",
    "model = model.to(DEVICE)"
   ],
   "id": "5c8c286960751174",
   "outputs": [],
   "execution_count": 13
  },
  {
   "metadata": {
    "ExecuteTime": {
     "end_time": "2024-04-23T15:25:43.635803Z",
     "start_time": "2024-04-23T15:25:43.624911Z"
    }
   },
   "cell_type": "code",
   "source": [
    "train_loader = DataLoader(train_dataset, batch_size=BATCH_SIZE, shuffle=True)\n",
    "val_loader = DataLoader(val_dataset, batch_size=BATCH_SIZE, shuffle=False)\n",
    "test_loader = DataLoader(test_dataset, batch_size=BATCH_SIZE, shuffle=False)"
   ],
   "id": "b03bd1502be30d69",
   "outputs": [],
   "execution_count": 14
  },
  {
   "metadata": {
    "jupyter": {
     "is_executing": true
    },
    "ExecuteTime": {
     "start_time": "2024-04-23T15:25:43.637801Z"
    }
   },
   "cell_type": "code",
   "source": [
    "%%time\n",
    "\n",
    "if TRAINING:\n",
    "    train_iou_arr = []\n",
    "    train_precision_arr = []\n",
    "    train_recall_arr = []\n",
    "    train_loss_arr = []\n",
    "    val_iou_arr = []\n",
    "    val_precision_arr = []\n",
    "    val_recall_arr = []\n",
    "    val_loss_arr = []\n",
    "    for i in range(0, EPOCHS):\n",
    "        # Perform training & validation\n",
    "        print('\\nEpoch: {}'.format(i))\n",
    "        model.train()\n",
    "        train_loss = 0.0\n",
    "        train_total_iou = 0.0\n",
    "        train_total_precision = 0.0\n",
    "        train_total_recall = 0.0\n",
    "        len_train_loader = len(train_loader)\n",
    "    \n",
    "        for inputs, labels in tqdm(train_loader, mininterval=1):\n",
    "            # Move input and label tensors to the device\n",
    "            input_patches = tensor_to_patches(inputs)\n",
    "            label_patches = tensor_to_patches(labels)\n",
    "            num_patches = input_patches.shape[0]\n",
    "            for i in range(0, num_patches, PATCH_SIZE):\n",
    "                model_inputs = input_patches[i:i + PATCH_SIZE, :, :, :].to(DEVICE)\n",
    "                model_labels = label_patches[i:i + PATCH_SIZE, :, :, :].to(DEVICE)\n",
    "                # Zero out the optimizer\n",
    "                optimizer.zero_grad()\n",
    "\n",
    "                # Forward pass\n",
    "                model_outputs = model(model_inputs)\n",
    "                loss = criterion(model_outputs, model_labels)\n",
    "                train_loss += loss.item()\n",
    "                # Backward pass\n",
    "                loss.backward()\n",
    "                optimizer.step()\n",
    "                predicted_masks = (model_outputs > 0.5).float()\n",
    "\n",
    "                tp = ((predicted_masks == 1) & (model_labels == 1)).sum().item()\n",
    "                fp = ((predicted_masks == 1) & (model_labels == 0)).sum().item()\n",
    "                fn = ((predicted_masks == 0) & (model_labels == 1)).sum().item()\n",
    "                tn = ((predicted_masks == 1) & (model_labels == 0)).sum().item()\n",
    "                intersection = torch.logical_and(predicted_masks, model_labels).sum().item()\n",
    "                union = torch.logical_or(predicted_masks, model_labels).sum().item()\n",
    "                iou = intersection / union if union != 0 else 0\n",
    "                precision = tp / (tp + fp) if tp + fp > 0 else 0.0\n",
    "                recall = tp / (tp + fn) if tp + fn > 0 else 0.0\n",
    "                train_total_iou += iou\n",
    "                train_total_recall += recall\n",
    "                train_total_precision += precision\n",
    "\n",
    "        iou = train_total_iou / (len(train_loader) * BATCH_SIZE * 36 / PATCH_SIZE)\n",
    "        recall = train_total_recall / (len(train_loader) * BATCH_SIZE * 36 / PATCH_SIZE)\n",
    "        precision = train_total_precision / (len(train_loader) * BATCH_SIZE * 36 / PATCH_SIZE)\n",
    "\n",
    "        train_iou_arr.append(iou)\n",
    "        train_recall_arr.append(recall)\n",
    "        train_precision_arr.append(precision)\n",
    "        train_loss_arr.append(train_loss)\n",
    "        \n",
    "\n",
    "    \n",
    "        print(\"===TRAIN===\")\n",
    "        print(f\"loss: {train_loss}\")\n",
    "        print(f\"iou: {iou}\")\n",
    "        print(f\"recall: {recall}\")\n",
    "        print(f\"precision: {precision}\")\n",
    "        \n",
    "        model.eval()\n",
    "        val_loss = 0.0\n",
    "        val_total_iou = 0.0\n",
    "        val_total_precision = 0.0\n",
    "        val_total_recall = 0.0\n",
    "        len_val_loader = len(train_loader)\n",
    "        with torch.no_grad():\n",
    "            for inputs, labels in tqdm(val_loader, mininterval=1):\n",
    "                # Move input and label tensors to the device\n",
    "                input_patches = tensor_to_patches(inputs)\n",
    "                label_patches = tensor_to_patches(labels)\n",
    "                num_patches = input_patches.shape[0]\n",
    "                for i in range(0, num_patches, PATCH_SIZE):\n",
    "                    model_inputs = input_patches[i:i + PATCH_SIZE, :, :, :].to(DEVICE)\n",
    "                    model_labels = label_patches[i:i + PATCH_SIZE, :, :, :].to(DEVICE)\n",
    "                    # Forward pass\n",
    "                    model_outputs = model(model_inputs)\n",
    "                    loss = criterion(model_outputs, model_labels)\n",
    "                    val_loss += loss.item() / (len(val_loader) * BATCH_SIZE * 36 / PATCH_SIZE)\n",
    "                    # Backward pass\n",
    "                    predicted_masks = (model_outputs > 0.5).float()\n",
    "                    \n",
    "                    tp = ((predicted_masks == 1) & (model_labels == 1)).sum().item()\n",
    "                    fp = ((predicted_masks == 1) & (model_labels == 0)).sum().item()\n",
    "                    fn = ((predicted_masks == 0) & (model_labels == 1)).sum().item()\n",
    "                    tn = ((predicted_masks == 1) & (model_labels == 0)).sum().item()\n",
    "                    intersection = torch.logical_and(predicted_masks, model_labels).sum().item()\n",
    "                    union = torch.logical_or(predicted_masks, model_labels).sum().item()\n",
    "                    iou = intersection / union if union != 0 else 0\n",
    "                    precision = tp / (tp + fp) if tp + fp > 0 else 0.0\n",
    "                    recall = tp / (tp + fn) if tp + fn > 0 else 0.0\n",
    "                    val_total_iou += iou\n",
    "                    val_total_recall += recall\n",
    "                    val_total_precision += precision\n",
    "            \n",
    "            iou = val_total_iou / (len(val_loader) * BATCH_SIZE * 36 / PATCH_SIZE)\n",
    "            recall = val_total_recall / (len(val_loader) * BATCH_SIZE * 36 / PATCH_SIZE)\n",
    "            precision = val_total_precision / (len(val_loader) * BATCH_SIZE * 36 / PATCH_SIZE)\n",
    "            \n",
    "            val_iou_arr.append(iou)\n",
    "            val_recall_arr.append(recall)\n",
    "            val_precision_arr.append(precision)\n",
    "            val_loss_arr.append(val_loss)\n",
    "            \n",
    "            print(\"===VALIDATION===\")\n",
    "            print(f\"loss: {val_loss}\")\n",
    "            print(f\"iou: {iou}\")\n",
    "            print(f\"recall: {recall}\")\n",
    "            print(f\"precision: {precision}\") \n",
    "            "
   ],
   "id": "64feb66e337dd87e",
   "outputs": [
    {
     "name": "stdout",
     "output_type": "stream",
     "text": [
      "\n",
      "Epoch: 0\n"
     ]
    },
    {
     "name": "stderr",
     "output_type": "stream",
     "text": [
      "  0%|          | 5/1108 [00:07<26:06,  1.42s/it]"
     ]
    }
   ],
   "execution_count": null
  },
  {
   "metadata": {
    "jupyter": {
     "is_executing": true
    }
   },
   "cell_type": "code",
   "source": [
    "fig, axs = plt.subplots(nrows=2, ncols=4)\n",
    "fig.suptitle(\"train/val\")\n",
    "axs[0][0].plot(train_loss_arr)\n",
    "axs[0][0].set_title(\"loss\")\n",
    "axs[0][1].plot(train_iou_arr)\n",
    "axs[0][1].set_title(\"iou\")\n",
    "axs[0][2].plot(train_recall_arr)\n",
    "axs[0][2].set_title(\"recall\")\n",
    "axs[0][3].plot(train_precision_arr)\n",
    "axs[0][3].set_title(\"precision\")\n",
    "axs[1][0].plot(val_loss_arr)\n",
    "axs[1][0].set_title(\"loss\")\n",
    "axs[1][1].plot(val_iou_arr)\n",
    "axs[1][1].set_title(\"iou\")\n",
    "axs[1][2].plot(val_recall_arr)\n",
    "axs[1][2].set_title(\"recall\")\n",
    "axs[1][3].plot(val_precision_arr)\n",
    "axs[1][3].set_title(\"precision\")\n",
    "plt.show()"
   ],
   "id": "1414debfa6bf172b",
   "outputs": [],
   "execution_count": null
  },
  {
   "metadata": {
    "jupyter": {
     "is_executing": true
    }
   },
   "cell_type": "code",
   "source": "",
   "id": "d44f50228d7a4f3",
   "outputs": [],
   "execution_count": null
  }
 ],
 "metadata": {
  "kernelspec": {
   "display_name": "Python 3",
   "language": "python",
   "name": "python3"
  },
  "language_info": {
   "codemirror_mode": {
    "name": "ipython",
    "version": 2
   },
   "file_extension": ".py",
   "mimetype": "text/x-python",
   "name": "python",
   "nbconvert_exporter": "python",
   "pygments_lexer": "ipython2",
   "version": "2.7.6"
  }
 },
 "nbformat": 4,
 "nbformat_minor": 5
}
